{
 "cells": [
  {
   "cell_type": "code",
   "execution_count": 1,
   "metadata": {},
   "outputs": [],
   "source": [
    "from bs4 import BeautifulSoup\n",
    "import requests\n",
    "import re\n",
    "import pandas as pd"
   ]
  },
  {
   "cell_type": "code",
   "execution_count": 2,
   "metadata": {},
   "outputs": [],
   "source": [
    "agent = \"Mozilla/5.0 (X11; Linux x86_64) AppleWebKit/537.36 (KHTML, like Gecko) Chrome/120.0.0.0 Safari/537.36\"\n",
    "\n",
    "# Headers for request\n",
    "HEADERS = ({'User-Agent' : agent, 'Accept-Language': 'en-US, en;q=0.5'})"
   ]
  },
  {
   "cell_type": "code",
   "execution_count": 3,
   "metadata": {},
   "outputs": [],
   "source": [
    "year = '2019'"
   ]
  },
  {
   "cell_type": "code",
   "execution_count": 4,
   "metadata": {},
   "outputs": [
    {
     "name": "stdout",
     "output_type": "stream",
     "text": [
      "<Response [200]>\n"
     ]
    }
   ],
   "source": [
    "url = f\"https://www.knbs.or.ke/?s=inflation+rates+{year}\"\n",
    "\n",
    "response = requests.get(url, headers=HEADERS)\n",
    "print(response)\n",
    "soup = BeautifulSoup(response.content, 'html.parser')\n",
    "#print(soup)\n"
   ]
  },
  {
   "cell_type": "code",
   "execution_count": 5,
   "metadata": {},
   "outputs": [],
   "source": [
    "# Extract relevant information\n",
    "title = soup.find('h2', class_='entry-title').text.strip()\n",
    "url = soup.find('h2', class_='entry-title').a['href']\n",
    "date = soup.find('time', class_='entry-date')['datetime']\n",
    "#content = soup.find('div', class_='entry-summary').p.text.strip()\n",
    "\n",
    "# # Print the extracted data\n",
    "# print(f'Title: {title}')\n",
    "# print(f'URL: {url}')\n",
    "# print(f'Date: {date}')\n",
    "# print(f'Content: {content}')"
   ]
  },
  {
   "cell_type": "code",
   "execution_count": 6,
   "metadata": {},
   "outputs": [],
   "source": [
    "titles = []\n",
    "links = []\n",
    "dates = []\n",
    "contents  = []"
   ]
  },
  {
   "cell_type": "code",
   "execution_count": 7,
   "metadata": {},
   "outputs": [],
   "source": [
    "\n",
    "# Extract information from each article\n",
    "articles = soup.find_all('article', class_='post')\n",
    "\n",
    "for article in articles:\n",
    "    title = article.find('h2', class_='entry-title').text.strip()\n",
    "    url = article.find('h2', class_='entry-title').a['href']\n",
    "    date = article.find('time', class_='entry-date')['datetime']\n",
    "    # content = article.find('div', class_='entry-summary').p.text.strip()\n",
    "    # content = content.split('(CPI)')[1].split(\". As presented\")[0]\n",
    "\n",
    "    # # Print or store the extracted data as needed\n",
    "    # print(f'Title: {title}')\n",
    "    # print(f'URL: {url}')\n",
    "    # print(f'Date: {date}')\n",
    "    # print(f'Content: {content}')\n",
    "    # print('\\n' + '-'*50 + '\\n')\n",
    "    titles.append(title)\n",
    "    links.append(url)\n",
    "    dates.append(date)\n",
    "    # contents.append(content)"
   ]
  },
  {
   "cell_type": "code",
   "execution_count": 8,
   "metadata": {},
   "outputs": [
    {
     "data": {
      "text/plain": [
       "5"
      ]
     },
     "execution_count": 8,
     "metadata": {},
     "output_type": "execute_result"
    }
   ],
   "source": [
    "len(links)"
   ]
  },
  {
   "cell_type": "code",
   "execution_count": 9,
   "metadata": {},
   "outputs": [
    {
     "name": "stdout",
     "output_type": "stream",
     "text": [
      "<Response [200]>\n",
      "<Response [503]>\n",
      "<Response [503]>\n",
      "<Response [200]>\n",
      "<Response [503]>\n"
     ]
    }
   ],
   "source": [
    "for link in links:\n",
    "    response = requests.get(link, headers=HEADERS)\n",
    "    print(response)\n",
    "    soup = BeautifulSoup(response.content, 'html.parser')"
   ]
  },
  {
   "cell_type": "code",
   "execution_count": 10,
   "metadata": {},
   "outputs": [
    {
     "name": "stdout",
     "output_type": "stream",
     "text": [
      "<Response [200]>\n",
      "Title: Release of CPI and rates of inflation for July 2017\n",
      "URL: https://www.knbs.or.ke/release-cpi-rates-inflation-july-2017/\n",
      "Date: 2017-07-31T13:10:20+00:00\n",
      "\n",
      "--------------------------------------------------\n",
      "\n",
      "Title: Release of CPI and rates of inflation for June 2017\n",
      "URL: https://www.knbs.or.ke/release-cpi-rates-inflation-june-2017/\n",
      "Date: 2017-06-30T14:52:46+00:00\n",
      "\n",
      "--------------------------------------------------\n",
      "\n",
      "Title: Release of CPI and rates of inflation for May 2017\n",
      "URL: https://www.knbs.or.ke/release-cpi-rates-inflation-may-2017/\n",
      "Date: 2017-05-31T14:52:11+00:00\n",
      "\n",
      "--------------------------------------------------\n",
      "\n",
      "Title: CPI and rates of inflation for March 2017\n",
      "URL: https://www.knbs.or.ke/cpi-and-rates-of-inflation-for-march-2017/\n",
      "Date: 2017-05-04T15:42:09+00:00\n",
      "\n",
      "--------------------------------------------------\n",
      "\n",
      "Title: CPI and rates of inflation for February 2017\n",
      "URL: https://www.knbs.or.ke/cpi-and-rates-of-inflation-for-february-2017/\n",
      "Date: 2017-03-14T08:31:30+00:00\n",
      "\n",
      "--------------------------------------------------\n",
      "\n",
      "Title: CPI and Inflation Rates for January 2017\n",
      "URL: https://www.knbs.or.ke/cpi-and-inflation-rates-for-january-2017/\n",
      "Date: 2017-01-31T13:41:30+00:00\n",
      "\n",
      "--------------------------------------------------\n",
      "\n",
      "Title: Leading Economic Indicator December 2017\n",
      "URL: https://www.knbs.or.ke/leading-economic-indicator-december-2017/\n",
      "Date: 2018-02-16T06:13:00+00:00\n",
      "\n",
      "--------------------------------------------------\n",
      "\n",
      "Title: CPI and rates of inflation for January 2018\n",
      "URL: https://www.knbs.or.ke/cpi-rates-inflation-january-2018/\n",
      "Date: 2018-01-31T18:14:31+00:00\n",
      "\n",
      "--------------------------------------------------\n",
      "\n"
     ]
    }
   ],
   "source": [
    "second_url = f\"https://www.knbs.or.ke/page/2/?s=inflation+rates+{year}\"\n",
    "response = requests.get(second_url, headers=HEADERS)\n",
    "print(response)\n",
    "soup = BeautifulSoup(response.content, 'html.parser')\n",
    "# Extract information from each article\n",
    "articles = soup.find_all('article', class_='post')\n",
    "\n",
    "for article in articles:\n",
    "    title = article.find('h2', class_='entry-title').text.strip()\n",
    "    url = article.find('h2', class_='entry-title').a['href']\n",
    "    date = article.find('time', class_='entry-date')['datetime']\n",
    "    # content = article.find('div', class_='entry-summary').p.text.strip()\n",
    "    # content = content.split('(CPI)')[1].split(\". As presented\")[0]\n",
    "\n",
    "    # Print or store the extracted data as needed\n",
    "    print(f'Title: {title}')\n",
    "    print(f'URL: {url}')\n",
    "    print(f'Date: {date}')\n",
    "    #print(f'Content: {content}')\n",
    "    print('\\n' + '-'*50 + '\\n')\n",
    "    titles.append(title)\n",
    "    links.append(url)\n",
    "    dates.append(date)\n",
    "    #contents.append(content)"
   ]
  },
  {
   "cell_type": "code",
   "execution_count": 11,
   "metadata": {},
   "outputs": [
    {
     "data": {
      "text/plain": [
       "13"
      ]
     },
     "execution_count": 11,
     "metadata": {},
     "output_type": "execute_result"
    }
   ],
   "source": [
    "len(links)"
   ]
  },
  {
   "cell_type": "code",
   "execution_count": 12,
   "metadata": {},
   "outputs": [
    {
     "name": "stdout",
     "output_type": "stream",
     "text": [
      "<Response [200]>\n",
      "Title: Quarterly Gross Domestic Product Report Third Quarter 2017\n",
      "URL: https://www.knbs.or.ke/quarterly-gross-domestic-product-report-third-quarter-2017/\n",
      "Date: 2017-12-29T13:31:17+00:00\n",
      "\n",
      "--------------------------------------------------\n",
      "\n",
      "Title: Leading Economic Indicator October 2017\n",
      "URL: https://www.knbs.or.ke/leading-economic-indicator-october-2017/\n",
      "Date: 2017-12-13T15:52:22+00:00\n",
      "\n",
      "--------------------------------------------------\n",
      "\n",
      "Title: 2017 AFRICAN STATISTICS DAY CELEBRATIONS\n",
      "URL: https://www.knbs.or.ke/2017-african-statistics-day-celebrations/\n",
      "Date: 2017-11-14T04:32:49+00:00\n",
      "\n",
      "--------------------------------------------------\n",
      "\n",
      "Title: Leading Economic Indicator September 2017\n",
      "URL: https://www.knbs.or.ke/leading-economic-indicator-september-2017/\n",
      "Date: 2017-11-09T14:49:59+00:00\n",
      "\n",
      "--------------------------------------------------\n",
      "\n",
      "Title: Quarterly Gross Domestic Product Report Second Quarter 2017\n",
      "URL: https://www.knbs.or.ke/quarterly-gross-domestic-product-report-second-quarter-2017/\n",
      "Date: 2017-09-29T19:49:13+00:00\n",
      "\n",
      "--------------------------------------------------\n",
      "\n",
      "Title: Leading Economic Indicator June 2017\n",
      "URL: https://www.knbs.or.ke/leading-economic-indicator-june-2017/\n",
      "Date: 2017-08-04T09:31:59+00:00\n",
      "\n",
      "--------------------------------------------------\n",
      "\n",
      "Title: Quarterly Gross Domestic Product Report First Quarter 2017\n",
      "URL: https://www.knbs.or.ke/quarterly-gross-domestic-product-report-first-quarter-2017/\n",
      "Date: 2017-06-30T13:39:22+00:00\n",
      "\n",
      "--------------------------------------------------\n",
      "\n",
      "Title: Launch of Leading Economic Indicator April 2017\n",
      "URL: https://www.knbs.or.ke/launch-leading-economic-indicator-april-2017/\n",
      "Date: 2017-06-13T09:53:37+00:00\n",
      "\n",
      "--------------------------------------------------\n",
      "\n",
      "Title: The overall inflation rate for the month of April 2017 is 11.48 per cent.\n",
      "URL: https://www.knbs.or.ke/cpi-and-inflation-rates-for-april-2017/\n",
      "Date: 2017-05-04T17:02:28+00:00\n",
      "\n",
      "--------------------------------------------------\n",
      "\n",
      "Title: 2017 Economic Survey Launch\n",
      "URL: https://www.knbs.or.ke/2017-economic-survey-launch/\n",
      "Date: 2017-05-04T15:54:52+00:00\n",
      "\n",
      "--------------------------------------------------\n",
      "\n"
     ]
    }
   ],
   "source": [
    "second_url = f\"https://www.knbs.or.ke/page/3/?s=inflation+rates+{year}\"\n",
    "response = requests.get(second_url, headers=HEADERS)\n",
    "print(response)\n",
    "soup = BeautifulSoup(response.content, 'html.parser')\n",
    "# Extract information from each article\n",
    "articles = soup.find_all('article', class_='post')\n",
    "\n",
    "for article in articles:\n",
    "    title = article.find('h2', class_='entry-title').text.strip()\n",
    "    url = article.find('h2', class_='entry-title').a['href']\n",
    "    date = article.find('time', class_='entry-date')['datetime']\n",
    "    # content = article.find('div', class_='entry-summary').p.text.strip()\n",
    "    # content = content.split('(CPI)')[1].split(\". As presented\")[0]\n",
    "\n",
    "    # Print or store the extracted data as needed\n",
    "    print(f'Title: {title}')\n",
    "    print(f'URL: {url}')\n",
    "    print(f'Date: {date}')\n",
    "    #print(f'Content: {content}')\n",
    "    print('\\n' + '-'*50 + '\\n')\n",
    "    titles.append(title)\n",
    "    links.append(url)\n",
    "    dates.append(date)\n",
    "    #contents.append(content)"
   ]
  },
  {
   "cell_type": "code",
   "execution_count": 13,
   "metadata": {},
   "outputs": [
    {
     "data": {
      "text/plain": [
       "23"
      ]
     },
     "execution_count": 13,
     "metadata": {},
     "output_type": "execute_result"
    }
   ],
   "source": [
    "len(links)"
   ]
  },
  {
   "cell_type": "code",
   "execution_count": 14,
   "metadata": {},
   "outputs": [
    {
     "name": "stdout",
     "output_type": "stream",
     "text": [
      "<Response [200]>\n"
     ]
    }
   ],
   "source": [
    "response = requests.get(link, headers=HEADERS)\n",
    "print(response)\n",
    "soup = BeautifulSoup(response.content, 'html.parser')"
   ]
  },
  {
   "cell_type": "code",
   "execution_count": 15,
   "metadata": {},
   "outputs": [
    {
     "data": {
      "text/plain": [
       "'The prices are obtained from selected retail outlets in 25 data collection zones spread across Nairobi and 13 other urban centers.'"
      ]
     },
     "execution_count": 15,
     "metadata": {},
     "output_type": "execute_result"
    }
   ],
   "source": [
    "soup.find_all('p')[1].text.split('. ')[1]"
   ]
  },
  {
   "cell_type": "code",
   "execution_count": 16,
   "metadata": {},
   "outputs": [],
   "source": [
    "inflation_rates = []"
   ]
  },
  {
   "cell_type": "code",
   "execution_count": 17,
   "metadata": {},
   "outputs": [
    {
     "name": "stdout",
     "output_type": "stream",
     "text": [
      "<Response [503]>\n",
      "list out of range\n",
      "<Response [200]>\n",
      "<Response [200]>\n",
      "<Response [200]>\n",
      "<Response [200]>\n",
      "<Response [503]>\n",
      "list out of range\n",
      "<Response [200]>\n",
      "<Response [503]>\n",
      "list out of range\n",
      "<Response [503]>\n",
      "list out of range\n",
      "<Response [503]>\n",
      "list out of range\n",
      "<Response [200]>\n",
      "list out of range\n",
      "<Response [200]>\n",
      "list out of range\n",
      "<Response [200]>\n",
      "<Response [200]>\n",
      "<Response [200]>\n",
      "<Response [200]>\n",
      "list out of range\n",
      "<Response [200]>\n",
      "<Response [200]>\n",
      "<Response [200]>\n",
      "<Response [200]>\n",
      "<Response [200]>\n",
      "<Response [200]>\n",
      "list out of range\n",
      "<Response [200]>\n",
      "list out of range\n"
     ]
    }
   ],
   "source": [
    "for link in links:\n",
    "    response = requests.get(link, headers=HEADERS)\n",
    "    print(response)\n",
    "    soup = BeautifulSoup(response.content, 'html.parser')\n",
    "    try:\n",
    "        inflation_rate = soup.find_all('p')[1].text.split('. ')[1]\n",
    "        inflation_rates.append(inflation_rate)\n",
    "    except:\n",
    "        print(\"list out of range\")\n",
    "\n",
    "\n"
   ]
  },
  {
   "cell_type": "code",
   "execution_count": 18,
   "metadata": {},
   "outputs": [],
   "source": [
    "# Create a DataFrame\n",
    "data = {\n",
    "    'Inflation_rate': inflation_rates,\n",
    "}\n",
    "\n",
    "df = pd.DataFrame(data)"
   ]
  },
  {
   "cell_type": "code",
   "execution_count": 19,
   "metadata": {},
   "outputs": [],
   "source": [
    "df.to_csv(f\"{year}_Knbs_inflation_rates.csv\", index=False)"
   ]
  },
  {
   "cell_type": "code",
   "execution_count": 20,
   "metadata": {},
   "outputs": [
    {
     "data": {
      "text/html": [
       "<div>\n",
       "<style scoped>\n",
       "    .dataframe tbody tr th:only-of-type {\n",
       "        vertical-align: middle;\n",
       "    }\n",
       "\n",
       "    .dataframe tbody tr th {\n",
       "        vertical-align: top;\n",
       "    }\n",
       "\n",
       "    .dataframe thead th {\n",
       "        text-align: right;\n",
       "    }\n",
       "</style>\n",
       "<table border=\"1\" class=\"dataframe\">\n",
       "  <thead>\n",
       "    <tr style=\"text-align: right;\">\n",
       "      <th></th>\n",
       "      <th>Inflation_rate</th>\n",
       "    </tr>\n",
       "  </thead>\n",
       "  <tbody>\n",
       "    <tr>\n",
       "      <th>0</th>\n",
       "      <td>The overall year on year inflation stood at 4....</td>\n",
       "    </tr>\n",
       "    <tr>\n",
       "      <th>1</th>\n",
       "      <td>The overall year on year inflation stood at 5....</td>\n",
       "    </tr>\n",
       "    <tr>\n",
       "      <th>2</th>\n",
       "      <td>The overall year on year inflation stood at 7....</td>\n",
       "    </tr>\n",
       "    <tr>\n",
       "      <th>3</th>\n",
       "      <td>The prices are obtained from selected retail o...</td>\n",
       "    </tr>\n",
       "    <tr>\n",
       "      <th>4</th>\n",
       "      <td>The overall year on year inflation was 9.21 pe...</td>\n",
       "    </tr>\n",
       "    <tr>\n",
       "      <th>5</th>\n",
       "      <td>The overall year on year inflation stood at 4....</td>\n",
       "    </tr>\n",
       "    <tr>\n",
       "      <th>6</th>\n",
       "      <td>Financial and insurance activities recorded th...</td>\n",
       "    </tr>\n",
       "    <tr>\n",
       "      <th>7</th>\n",
       "      <td>The total value of NSE shares traded dropped f...</td>\n",
       "    </tr>\n",
       "    <tr>\n",
       "      <th>8</th>\n",
       "      <td>The overall rate of inflation dropped from 8.0...</td>\n",
       "    </tr>\n",
       "    <tr>\n",
       "      <th>9</th>\n",
       "      <td>On the other hand, the growth was somewhat con...</td>\n",
       "    </tr>\n",
       "    <tr>\n",
       "      <th>10</th>\n",
       "      <td>The total value of NSE shares traded increased...</td>\n",
       "    </tr>\n",
       "    <tr>\n",
       "      <th>11</th>\n",
       "      <td>Consequently, inflation averaged at 8.8 per ce...</td>\n",
       "    </tr>\n",
       "    <tr>\n",
       "      <th>12</th>\n",
       "      <td>The overall rate of inflation rose from 10.28 ...</td>\n",
       "    </tr>\n",
       "  </tbody>\n",
       "</table>\n",
       "</div>"
      ],
      "text/plain": [
       "                                       Inflation_rate\n",
       "0   The overall year on year inflation stood at 4....\n",
       "1   The overall year on year inflation stood at 5....\n",
       "2   The overall year on year inflation stood at 7....\n",
       "3   The prices are obtained from selected retail o...\n",
       "4   The overall year on year inflation was 9.21 pe...\n",
       "5   The overall year on year inflation stood at 4....\n",
       "6   Financial and insurance activities recorded th...\n",
       "7   The total value of NSE shares traded dropped f...\n",
       "8   The overall rate of inflation dropped from 8.0...\n",
       "9   On the other hand, the growth was somewhat con...\n",
       "10  The total value of NSE shares traded increased...\n",
       "11  Consequently, inflation averaged at 8.8 per ce...\n",
       "12  The overall rate of inflation rose from 10.28 ..."
      ]
     },
     "execution_count": 20,
     "metadata": {},
     "output_type": "execute_result"
    }
   ],
   "source": [
    "df"
   ]
  },
  {
   "cell_type": "code",
   "execution_count": null,
   "metadata": {},
   "outputs": [],
   "source": []
  }
 ],
 "metadata": {
  "kernelspec": {
   "display_name": "venv",
   "language": "python",
   "name": "python3"
  },
  "language_info": {
   "codemirror_mode": {
    "name": "ipython",
    "version": 3
   },
   "file_extension": ".py",
   "mimetype": "text/x-python",
   "name": "python",
   "nbconvert_exporter": "python",
   "pygments_lexer": "ipython3",
   "version": "3.10.12"
  }
 },
 "nbformat": 4,
 "nbformat_minor": 2
}
