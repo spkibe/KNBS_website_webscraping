{
 "cells": [
  {
   "cell_type": "code",
   "execution_count": 1,
   "metadata": {},
   "outputs": [],
   "source": [
    "from bs4 import BeautifulSoup\n",
    "import requests\n",
    "import re\n",
    "import pandas as pd"
   ]
  },
  {
   "cell_type": "code",
   "execution_count": 2,
   "metadata": {},
   "outputs": [],
   "source": [
    "agent = \"Mozilla/5.0 (X11; Linux x86_64) AppleWebKit/537.36 (KHTML, like Gecko) Chrome/120.0.0.0 Safari/537.36\"\n",
    "\n",
    "# Headers for request\n",
    "HEADERS = ({'User-Agent' : agent, 'Accept-Language': 'en-US, en;q=0.5'})"
   ]
  },
  {
   "cell_type": "code",
   "execution_count": 3,
   "metadata": {},
   "outputs": [
    {
     "name": "stdout",
     "output_type": "stream",
     "text": [
      "<Response [200]>\n"
     ]
    }
   ],
   "source": [
    "url = \"https://www.knbs.or.ke/page/3/?s=INFLATION+RATES\"\n",
    "\n",
    "response = requests.get(url, headers=HEADERS)\n",
    "print(response)\n",
    "soup = BeautifulSoup(response.content, 'html.parser')\n",
    "#print(soup)\n"
   ]
  },
  {
   "cell_type": "code",
   "execution_count": 5,
   "metadata": {},
   "outputs": [
    {
     "name": "stdout",
     "output_type": "stream",
     "text": [
      "Title: CONSUMER PRICE INDICES AND INFLATION RATES FOR MARCH 2023\n",
      "URL: https://www.knbs.or.ke/consumer-price-indices-and-inflation-rates-for-march-2023/\n",
      "Date: 2023-03-31T14:01:13+00:00\n",
      "Content: The overall year on year inflation rate as measured by the Consumer Price Index (CPI) was 9.2 per cent, in March 2023. As presented in Tables 1 and 2, the rise in inflation was largely due to increase in prices of commodities under food and non-alcoholic beverages (13.4%); and housing, water, electricity, gas and other […]\n"
     ]
    }
   ],
   "source": [
    "# Extract relevant information\n",
    "title = soup.find('h2', class_='entry-title').text.strip()\n",
    "url = soup.find('h2', class_='entry-title').a['href']\n",
    "date = soup.find('time', class_='entry-date')['datetime']\n",
    "content = soup.find('div', class_='entry-summary').p.text.strip()\n",
    "\n",
    "# Print the extracted data\n",
    "print(f'Title: {title}')\n",
    "print(f'URL: {url}')\n",
    "print(f'Date: {date}')\n",
    "print(f'Content: {content}')"
   ]
  },
  {
   "cell_type": "code",
   "execution_count": 6,
   "metadata": {},
   "outputs": [],
   "source": [
    "titles = []\n",
    "links = []\n",
    "Dates = []\n",
    "contents  = []"
   ]
  },
  {
   "cell_type": "code",
   "execution_count": 7,
   "metadata": {},
   "outputs": [
    {
     "name": "stdout",
     "output_type": "stream",
     "text": [
      "Title: CONSUMER PRICE INDICES AND INFLATION RATES FOR MARCH 2023\n",
      "URL: https://www.knbs.or.ke/consumer-price-indices-and-inflation-rates-for-march-2023/\n",
      "Date: 2023-03-31T14:01:13+00:00\n",
      "Content:  was 9.2 per cent, in March 2023\n",
      "\n",
      "--------------------------------------------------\n",
      "\n",
      "Title: CONSUMER PRICE INDICES AND INFLATION RATES FOR FEBRUARY 2023\n",
      "URL: https://www.knbs.or.ke/consumer-price-indices-and-inflation-rates-for-february-2023/\n",
      "Date: 2023-02-28T19:23:04+00:00\n",
      "Content:  was 9.2 per cent, in February 2023\n",
      "\n",
      "--------------------------------------------------\n",
      "\n",
      "Title: CONSUMER PRICE INDICES AND INFLATION RATES FOR JANUARY 2023\n",
      "URL: https://www.knbs.or.ke/consumer-price-indices-and-inflation-rates-for-january-2023/\n",
      "Date: 2023-01-31T13:52:21+00:00\n",
      "Content:  was 9.0 per cent, in January 2023\n",
      "\n",
      "--------------------------------------------------\n",
      "\n",
      "Title: CONSUMER PRICE INDICES AND INFLATION RATES FOR DECEMBER 2022\n",
      "URL: https://www.knbs.or.ke/consumer-price-indices-and-inflation-rates-for-december-2022/\n",
      "Date: 2022-12-30T14:22:15+00:00\n",
      "Content:  was 9.1 per cent, in December 2022\n",
      "\n",
      "--------------------------------------------------\n",
      "\n",
      "Title: CONSUMER PRICE INDICES AND INFLATION RATES FOR NOVEMBER 2022\n",
      "URL: https://www.knbs.or.ke/consumer-price-indices-and-inflation-rates-for-november-2022/\n",
      "Date: 2022-11-30T13:35:09+00:00\n",
      "Content:  was 9.5 per cent, in November 2022\n",
      "\n",
      "--------------------------------------------------\n",
      "\n"
     ]
    }
   ],
   "source": [
    "\n",
    "# Extract information from each article\n",
    "articles = soup.find_all('article', class_='post')\n",
    "\n",
    "for article in articles:\n",
    "    title = article.find('h2', class_='entry-title').text.strip()\n",
    "    url = article.find('h2', class_='entry-title').a['href']\n",
    "    date = article.find('time', class_='entry-date')['datetime']\n",
    "    content = article.find('div', class_='entry-summary').p.text.strip()\n",
    "    content = content.split('(CPI)')[1].split(\". As presented\")[0]\n",
    "\n",
    "    # Print or store the extracted data as needed\n",
    "    print(f'Title: {title}')\n",
    "    print(f'URL: {url}')\n",
    "    print(f'Date: {date}')\n",
    "    print(f'Content: {content}')\n",
    "    print('\\n' + '-'*50 + '\\n')"
   ]
  },
  {
   "cell_type": "code",
   "execution_count": 9,
   "metadata": {},
   "outputs": [],
   "source": [
    "#content.split('(CPI)')[1].split(\". As presented\")[0]"
   ]
  },
  {
   "cell_type": "code",
   "execution_count": 17,
   "metadata": {},
   "outputs": [
    {
     "name": "stdout",
     "output_type": "stream",
     "text": [
      "<Response [200]>\n",
      "<Response [200]>\n",
      "<Response [200]>\n",
      "<Response [200]>\n",
      "<Response [200]>\n",
      "<Response [200]>\n",
      "<Response [200]>\n",
      "<Response [200]>\n",
      "<Response [200]>\n",
      "<Response [200]>\n"
     ]
    }
   ],
   "source": [
    "titles = []\n",
    "links = []\n",
    "dates = []\n",
    "contents  = []\n",
    "\n",
    "try:\n",
    "    for i in range(0, 10):\n",
    "\n",
    "        url = f\"https://www.knbs.or.ke/page/{i}/?s=INFLATION+RATES\"\n",
    "\n",
    "        response = requests.get(url, headers=HEADERS)\n",
    "        print(response)\n",
    "        soup = BeautifulSoup(response.content, 'html.parser')\n",
    "        #print(soup)\n",
    "\n",
    "        # Extract information from each article\n",
    "        articles = soup.find_all('article', class_='post')\n",
    "\n",
    "        for article in articles:\n",
    "            title = article.find('h2', class_='entry-title').text.strip()\n",
    "            url = article.find('h2', class_='entry-title').a['href']\n",
    "            date = article.find('time', class_='entry-date')['datetime']\n",
    "            content = article.find('div', class_='entry-summary').p.text.strip()\n",
    "            content = content.split('(CPI)')[1].split(\". As presented\")[0]\n",
    "\n",
    "            titles.append(title)\n",
    "            links.append(url)\n",
    "            dates.append(date)\n",
    "            contents.append(content)\n",
    "\n",
    "            # # Print or store the extracted data as needed\n",
    "            # print(f'Title: {title}')\n",
    "            # print(f'URL: {url}')\n",
    "            # print(f'Date: {date}')\n",
    "            # print(f'Content: {content}')\n",
    "            # print('\\n' + '-'*50 + '\\n')\n",
    "\n",
    "except:\n",
    "    print(\"no more pages\")"
   ]
  },
  {
   "cell_type": "code",
   "execution_count": 18,
   "metadata": {},
   "outputs": [
    {
     "data": {
      "text/plain": [
       "54"
      ]
     },
     "execution_count": 18,
     "metadata": {},
     "output_type": "execute_result"
    }
   ],
   "source": [
    "len(titles)"
   ]
  },
  {
   "cell_type": "code",
   "execution_count": 19,
   "metadata": {},
   "outputs": [],
   "source": [
    "# Create a DataFrame\n",
    "data = {\n",
    "    'Title': titles,\n",
    "    'Link': links,\n",
    "    'Date': dates,\n",
    "    'Content': contents\n",
    "}\n",
    "\n",
    "df = pd.DataFrame(data)\n",
    "\n",
    "#"
   ]
  },
  {
   "cell_type": "code",
   "execution_count": 20,
   "metadata": {},
   "outputs": [
    {
     "data": {
      "text/plain": [
       "(54, 4)"
      ]
     },
     "execution_count": 20,
     "metadata": {},
     "output_type": "execute_result"
    }
   ],
   "source": [
    "df.shape"
   ]
  },
  {
   "cell_type": "code",
   "execution_count": 21,
   "metadata": {},
   "outputs": [
    {
     "data": {
      "text/html": [
       "<div>\n",
       "<style scoped>\n",
       "    .dataframe tbody tr th:only-of-type {\n",
       "        vertical-align: middle;\n",
       "    }\n",
       "\n",
       "    .dataframe tbody tr th {\n",
       "        vertical-align: top;\n",
       "    }\n",
       "\n",
       "    .dataframe thead th {\n",
       "        text-align: right;\n",
       "    }\n",
       "</style>\n",
       "<table border=\"1\" class=\"dataframe\">\n",
       "  <thead>\n",
       "    <tr style=\"text-align: right;\">\n",
       "      <th></th>\n",
       "      <th>Title</th>\n",
       "      <th>Link</th>\n",
       "      <th>Date</th>\n",
       "      <th>Content</th>\n",
       "    </tr>\n",
       "  </thead>\n",
       "  <tbody>\n",
       "    <tr>\n",
       "      <th>0</th>\n",
       "      <td>CONSUMER PRICE INDICES AND INFLATION RATES FOR...</td>\n",
       "      <td>https://www.knbs.or.ke/consumer-price-indices-...</td>\n",
       "      <td>2024-01-31T09:42:04+00:00</td>\n",
       "      <td>was 6.9 per cent, in January 2024. This means...</td>\n",
       "    </tr>\n",
       "    <tr>\n",
       "      <th>1</th>\n",
       "      <td>CONSUMER PRICE INDICES AND INFLATION RATES FOR...</td>\n",
       "      <td>https://www.knbs.or.ke/consumer-price-indices-...</td>\n",
       "      <td>2023-12-29T07:09:55+00:00</td>\n",
       "      <td>was 6.6 per cent, in December 2023. This was ...</td>\n",
       "    </tr>\n",
       "    <tr>\n",
       "      <th>2</th>\n",
       "      <td>CONSUMER PRICE INDICES AND INFLATION RATES FOR...</td>\n",
       "      <td>https://www.knbs.or.ke/consumer-price-indices-...</td>\n",
       "      <td>2023-12-01T05:27:31+00:00</td>\n",
       "      <td>was 6.8 per cent, in November 2023. This was ...</td>\n",
       "    </tr>\n",
       "    <tr>\n",
       "      <th>3</th>\n",
       "      <td>CONSUMER PRICE INDICES AND INFLATION RATES FOR...</td>\n",
       "      <td>https://www.knbs.or.ke/consumer-price-indices-...</td>\n",
       "      <td>2023-10-31T17:11:55+00:00</td>\n",
       "      <td>was 6.9 per cent, in October 2023. During the...</td>\n",
       "    </tr>\n",
       "    <tr>\n",
       "      <th>4</th>\n",
       "      <td>CONSUMER PRICE INDICES AND INFLATION RATES FOR...</td>\n",
       "      <td>https://www.knbs.or.ke/consumer-price-indices-...</td>\n",
       "      <td>2023-09-29T17:52:13+00:00</td>\n",
       "      <td>was 6.8 per cent, in September 2023. During t...</td>\n",
       "    </tr>\n",
       "  </tbody>\n",
       "</table>\n",
       "</div>"
      ],
      "text/plain": [
       "                                               Title  \\\n",
       "0  CONSUMER PRICE INDICES AND INFLATION RATES FOR...   \n",
       "1  CONSUMER PRICE INDICES AND INFLATION RATES FOR...   \n",
       "2  CONSUMER PRICE INDICES AND INFLATION RATES FOR...   \n",
       "3  CONSUMER PRICE INDICES AND INFLATION RATES FOR...   \n",
       "4  CONSUMER PRICE INDICES AND INFLATION RATES FOR...   \n",
       "\n",
       "                                                Link  \\\n",
       "0  https://www.knbs.or.ke/consumer-price-indices-...   \n",
       "1  https://www.knbs.or.ke/consumer-price-indices-...   \n",
       "2  https://www.knbs.or.ke/consumer-price-indices-...   \n",
       "3  https://www.knbs.or.ke/consumer-price-indices-...   \n",
       "4  https://www.knbs.or.ke/consumer-price-indices-...   \n",
       "\n",
       "                        Date  \\\n",
       "0  2024-01-31T09:42:04+00:00   \n",
       "1  2023-12-29T07:09:55+00:00   \n",
       "2  2023-12-01T05:27:31+00:00   \n",
       "3  2023-10-31T17:11:55+00:00   \n",
       "4  2023-09-29T17:52:13+00:00   \n",
       "\n",
       "                                             Content  \n",
       "0   was 6.9 per cent, in January 2024. This means...  \n",
       "1   was 6.6 per cent, in December 2023. This was ...  \n",
       "2   was 6.8 per cent, in November 2023. This was ...  \n",
       "3   was 6.9 per cent, in October 2023. During the...  \n",
       "4   was 6.8 per cent, in September 2023. During t...  "
      ]
     },
     "execution_count": 21,
     "metadata": {},
     "output_type": "execute_result"
    }
   ],
   "source": [
    "df.head()"
   ]
  },
  {
   "cell_type": "code",
   "execution_count": 15,
   "metadata": {},
   "outputs": [
    {
     "data": {
      "text/plain": [
       "0     CONSUMER PRICE INDICES AND INFLATION RATES FOR...\n",
       "1     CONSUMER PRICE INDICES AND INFLATION RATES FOR...\n",
       "2     CONSUMER PRICE INDICES AND INFLATION RATES FOR...\n",
       "3     CONSUMER PRICE INDICES AND INFLATION RATES FOR...\n",
       "4     CONSUMER PRICE INDICES AND INFLATION RATES FOR...\n",
       "5     CONSUMER PRICE INDICES AND INFLATION RATES FOR...\n",
       "6     CONSUMER PRICE INDICES AND INFLATION RATES FOR...\n",
       "7     CONSUMER PRICE INDICES AND INFLATION RATES FOR...\n",
       "8     CONSUMER PRICE INDICES AND INFLATION RATES FOR...\n",
       "9     CONSUMER PRICE INDICES AND INFLATION RATES FOR...\n",
       "10    CONSUMER PRICE INDICES AND INFLATION RATES FOR...\n",
       "11    CONSUMER PRICE INDICES AND INFLATION RATES FOR...\n",
       "12    CONSUMER PRICE INDICES AND INFLATION RATES FOR...\n",
       "13    CONSUMER PRICE INDICES AND INFLATION RATES FOR...\n",
       "14    CONSUMER PRICE INDICES AND INFLATION RATES FOR...\n",
       "15    CONSUMER PRICE INDICES AND INFLATION RATES FOR...\n",
       "16    CONSUMER PRICE INDICES AND INFLATION RATES FOR...\n",
       "17    CONSUMER PRICE INDICES AND INFLATION RATES FOR...\n",
       "18    CONSUMER PRICE INDICES AND INFLATION RATES FOR...\n",
       "19    CONSUMER PRICE INDICES AND INFLATION RATES FOR...\n",
       "20    CONSUMER PRICE INDICES AND INFLATION RATES FOR...\n",
       "21    CONSUMER PRICE INDICES AND INFLATION RATES FOR...\n",
       "22    CONSUMER PRICE INDICES AND INFLATION RATES FOR...\n",
       "23    CONSUMER PRICE INDICES AND INFLATION RATES FOR...\n",
       "24    CONSUMER PRICE INDICES AND INFLATION RATES FOR...\n",
       "25    CONSUMER PRICE INDICES AND INFLATION RATES FOR...\n",
       "26    CONSUMER PRICE INDICES AND INFLATION RATES FOR...\n",
       "27    CONSUMER PRICE INDICES AND INFLATION RATES FOR...\n",
       "28    CONSUMER PRICE INDICES AND INFLATION RATES FOR...\n",
       "29    CONSUMER PRICE INDICES AND INFLATION RATES FOR...\n",
       "30    CONSUMER PRICE INDICES AND INFLATION RATES FOR...\n",
       "31    CONSUMER PRICE INDICES AND INFLATION RATES FOR...\n",
       "32    CONSUMER PRICE INDICES AND INFLATION RATES FOR...\n",
       "33    CONSUMER PRICE INDICES AND INFLATION RATES FOR...\n",
       "34    CONSUMER PRICE INDICES AND INFLATION RATES FOR...\n",
       "35    CONSUMER PRICE INDICES AND INFLATION RATES FOR...\n",
       "36    CONSUMER PRICE INDICES AND INFLATION RATES FOR...\n",
       "37    CONSUMER PRICE INDICES AND INFLATION RATES FOR...\n",
       "38    CONSUMER PRICE INDICES AND INFLATION RATES FOR...\n",
       "39    Consumer Price Indices and Inflation Rates for...\n",
       "40    CONSUMER PRICE INDICES AND INFLATION RATES FOR...\n",
       "41    Consumer Price Indices and Inflation Rates for...\n",
       "42    CONSUMER PRICE INDICES AND INFLATION RATES FOR...\n",
       "43    Consumer Price Indices and Inflation Rates for...\n",
       "44    Consumer Price Indices and Inflation Rates for...\n",
       "45    Consumer Price Indices and Inflation Rates for...\n",
       "46    Consumer Price Indices and Inflation Rates for...\n",
       "47    Consumer Price Indices and Inflation Rates for...\n",
       "48    Consumer Price Indices and Inflation Rates for...\n",
       "49    Consumer Price Indices and Inflation Rates for...\n",
       "50    Consumer Price Indices and Inflation Rates for...\n",
       "51    Consumer Price Indices and Inflation Rates for...\n",
       "52    Consumer Price Indices and Inflation Rates for...\n",
       "53    Consumer Price Indices and Inflation Rates for...\n",
       "Name: Title, dtype: object"
      ]
     },
     "execution_count": 15,
     "metadata": {},
     "output_type": "execute_result"
    }
   ],
   "source": [
    "df['Title']"
   ]
  },
  {
   "cell_type": "code",
   "execution_count": 22,
   "metadata": {},
   "outputs": [
    {
     "data": {
      "text/plain": [
       "0      was 6.9 per cent, in January 2024. This means...\n",
       "1      was 6.6 per cent, in December 2023. This was ...\n",
       "2      was 6.8 per cent, in November 2023. This was ...\n",
       "3      was 6.9 per cent, in October 2023. During the...\n",
       "4      was 6.8 per cent, in September 2023. During t...\n",
       "5      was 6.9 per cent, in January 2024. This means...\n",
       "6      was 6.6 per cent, in December 2023. This was ...\n",
       "7      was 6.8 per cent, in November 2023. This was ...\n",
       "8      was 6.9 per cent, in October 2023. During the...\n",
       "9      was 6.8 per cent, in September 2023. During t...\n",
       "10     was 6.7 per cent, in August 2023. During the ...\n",
       "11     was 7.3 per cent, in July 2023. The inflation...\n",
       "12     was 7.9 per cent, in June 2023. The inflation...\n",
       "13                        was 8.0 per cent, in May 2023\n",
       "14                      was 7.9 per cent, in April 2023\n",
       "15                      was 9.2 per cent, in March 2023\n",
       "16                   was 9.2 per cent, in February 2023\n",
       "17                    was 9.0 per cent, in January 2023\n",
       "18                   was 9.1 per cent, in December 2022\n",
       "19                   was 9.5 per cent, in November 2022\n",
       "20                    was 9.6 per cent, in October 2022\n",
       "21                  was 9.2 per cent, in September 2022\n",
       "22                     was 8.5 per cent, in August 2022\n",
       "23                       was 8.3 per cent, in July 2022\n",
       "24                       was 7.9 per cent, in June 2022\n",
       "25                        was 7.1 per cent, in May 2022\n",
       "26     was 6.47 per cent in April 2022. The rise in ...\n",
       "27     was 5.56 per cent, in March 2022. The rise in...\n",
       "28     was 5.08 per cent, in February 2022. This was...\n",
       "29     was 5.39 per cent, in January 2022. This was ...\n",
       "30     was 5.80 per cent, in November 2021. This was...\n",
       "31     was 6.45 per cent, in October 2021. This was ...\n",
       "32     was 6.91 per cent, in September 2021. This wa...\n",
       "33     was 6.57 per cent, in August 2021. This was m...\n",
       "34     was 6.44 per cent, in July 2021. This was mai...\n",
       "35     was 6.32 per cent, in June 2021. This was mai...\n",
       "36     and inflation for April 2021. These numbers a...\n",
       "37     and inflation for January, 2021. As shown in ...\n",
       "38     and Rates of Inflation, for November 2020. Th...\n",
       "39     and Rates of Inflation, for September, 2020. ...\n",
       "40     and rates of inflation, for August, 2020. The...\n",
       "41     and rates of inflation, for July, 2020. These...\n",
       "42     and rates of inflation, for June, 2020. The o...\n",
       "43     and rates of inflation, for April, 2020. The ...\n",
       "44     and rates of inflation for March 2020.   The ...\n",
       "45     and rates of inflation, for February, 2020. T...\n",
       "46     and rates of inflation, for January, 2020. Th...\n",
       "47     and rates of inflation, for December, 2019. T...\n",
       "48     and rates of inflation, for November, 2019. T...\n",
       "49     and rates of inflation, for October, 2019. Th...\n",
       "50     and rates of inflation, for September, 2019. ...\n",
       "51     and rates of inflation, for August, 2019. The...\n",
       "52     and rates of inflation, for July, 2019. These...\n",
       "53     and rates of inflation, for June, 2019. These...\n",
       "Name: Content, dtype: object"
      ]
     },
     "execution_count": 22,
     "metadata": {},
     "output_type": "execute_result"
    }
   ],
   "source": [
    "df['Content']"
   ]
  },
  {
   "cell_type": "code",
   "execution_count": 23,
   "metadata": {},
   "outputs": [],
   "source": [
    "df.to_csv(\"Knbs_inflation_rates.csv\", index=False)"
   ]
  }
 ],
 "metadata": {
  "kernelspec": {
   "display_name": "venv",
   "language": "python",
   "name": "python3"
  },
  "language_info": {
   "codemirror_mode": {
    "name": "ipython",
    "version": 3
   },
   "file_extension": ".py",
   "mimetype": "text/x-python",
   "name": "python",
   "nbconvert_exporter": "python",
   "pygments_lexer": "ipython3",
   "version": "3.10.12"
  }
 },
 "nbformat": 4,
 "nbformat_minor": 2
}
